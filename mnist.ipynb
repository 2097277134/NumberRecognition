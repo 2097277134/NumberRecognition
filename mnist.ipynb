{
 "cells": [
  {
   "cell_type": "code",
   "execution_count": 9,
   "id": "c421187d-a4f2-4c51-8db0-60e5048e1f14",
   "metadata": {},
   "outputs": [
    {
     "data": {
      "text/plain": [
       "<All keys matched successfully>"
      ]
     },
     "execution_count": 9,
     "metadata": {},
     "output_type": "execute_result"
    }
   ],
   "source": [
    "import torch # Import PyTorch 神经网络库\n",
    "import cv2   #opencv 图像处理库\n",
    "import ipywidgets #jupyter notebook的交互式小部件\n",
    "from cnn import * #导入CNN模型\n",
    "import numpy as np #导入numpy库\n",
    "# import serial #导入串口库\n",
    "import struct #导入struct库，打包数据使用\n",
    "# 串口初始化\n",
    "# ser = serial.Serial('/dev/ttyAMA0',115200)\n",
    "\n",
    "cnn=CNN() # create CNN model，类的实例化\n",
    "# 加载网络模型\n",
    "cnn.load_state_dict(torch.load('weight/pytorchp.pkl',map_location='cpu'))"
   ]
  },
  {
   "cell_type": "code",
   "execution_count": 10,
   "id": "0504586a-47f5-42a3-9782-d672afc0c0e2",
   "metadata": {},
   "outputs": [],
   "source": [
    "\n",
    "def findRoi(frame, thresValue,kernel):\n",
    "    rois = [] #存放数字区域\n",
    "    gray = cv2.cvtColor(frame, cv2.COLOR_BGR2GRAY)  #转灰度图\n",
    "    ret, gray = cv2.threshold(gray,thresValue,255,cv2.THRESH_BINARY_INV) #二值化\n",
    "    gray = cv2.dilate(gray,kernel,iterations=4)  #膨胀\n",
    "\n",
    "    gray = cv2.erode(gray,kernel,iterations=2)  #腐蚀\n",
    "    \n",
    "    gray = cv2.dilate(gray,kernel,iterations=4) #膨胀\n",
    "\n",
    "    contours, hierarchy = cv2.findContours(gray,cv2.RETR_TREE,cv2.CHAIN_APPROX_SIMPLE) #轮廓检测\n",
    "    area = [] #存放轮廓面积\n",
    "    # 找到最大的轮廓\n",
    "    for k in range(len(contours)):\n",
    "        area.append(cv2.contourArea(contours[k])) #计算轮廓面积\n",
    "    if area  :  \n",
    "        max_idx = np.argmax(np.array(area)) #找到最大面积的轮廓\n",
    "        x, y, w, h = cv2.boundingRect(contours[max_idx]) #找到轮廓的外接矩形\n",
    "        rois.append((x,y,w,h)) #存放数字区域\n",
    "    return rois, gray,area\n",
    "    \n",
    "    \n",
    "    \n",
    "# 识别数字\n",
    "def findDigit(cnn, roi, thresValue):\n",
    "    ret, th = cv2.threshold(roi, thresValue, 255, cv2.THRESH_BINARY) #二值化\n",
    "    th = cv2.resize(th,(28,28),interpolation=cv2.INTER_AREA) #resize\n",
    "    newing=[[th]]   #增加一个维度\n",
    "    newing = torch.Tensor(np.array(newing)).float()/255.    #归一化\n",
    "    predicions=cnn(newing)  #预测\n",
    "    retult=torch.argmax(predicions).detach().numpy()    #取最大值\n",
    "    return retult,th #返回预测值和二值化图像\n"
   ]
  },
  {
   "cell_type": "code",
   "execution_count": 12,
   "id": "84d58756-75f9-4f1f-ad53-d48828bb7c09",
   "metadata": {},
   "outputs": [
    {
     "data": {
      "application/vnd.jupyter.widget-view+json": {
       "model_id": "60e43a6fb27241a785c46c50f12fcf9f",
       "version_major": 2,
       "version_minor": 0
      },
      "text/plain": [
       "Image(value=b'')"
      ]
     },
     "metadata": {},
     "output_type": "display_data"
    }
   ],
   "source": [
    "font_scale=1.5 #字体大小\n",
    "font=cv2.FONT_HERSHEY_PLAIN #字体类型\n",
    "kernel = np.ones((4, 4), np.uint8) #膨胀腐蚀核\n",
    "wid = ipywidgets.Image() #创建一个图像显示窗口\n",
    "# cap=cv2.VideoCapture(0) #打开摄像头\n",
    "# cap=cv2.VideoCapture(\"2.mp4\") #打开视频\n",
    "# cap=cv2.VideoCapture(\"1.mp4\") #打开视频\n",
    "cap=cv2.VideoCapture(\"4.mp4\") #打开视频\n",
    "if not cap.isOpened(): #如果打开失败\n",
    "    cap=cv2.VideoCapture(1) #打开其他摄像头\n",
    "if not cap.isOpened(): #如果打开失败\n",
    "    raise IOError('Can not open video') #抛出异常\n",
    "cap.set(cv2.CAP_PROP_FPS, 30) #设置帧率\n",
    "cap.set(cv2.CAP_PROP_FRAME_WIDTH,160) #设置宽度\n",
    "cap.set(cv2.CAP_PROP_FRAME_HEIGHT,120)   #设置高度\n",
    "numberconter=0 #数字计数\n",
    "digit_copy=0 #数字副本\n",
    "display(wid) #显示窗口\n",
    "while True: #循环\n",
    "    ret,frame=cap.read() #读取视频帧\n",
    "    rois,edges,area = findRoi(frame, 50,kernel) #找到数字区域\n",
    "    if rois:  #如果找到数字区域\n",
    "        x, y, w, h=rois[0] #获取数字区域的坐标\n",
    "        x_small=int(x+(w-h)/2) #计算小的x坐标\n",
    "        if  x_small<0: \n",
    "             x_small = 0\n",
    "        digit,th = findDigit(cnn,edges[y:y+h, x_small: x_small+h], 20) #识别数字\n",
    "        if digit_copy==digit: #判断是否是同一个数字\n",
    "            numberconter+=1 #计数加1\n",
    "        if numberconter>=5: #如果计数大于5\n",
    "            numberhex = digit * 10 #数字乘以10\n",
    "            tCHK = (0xe0 + 0xf6 + numberhex) & 0x00ff  # 校验值\n",
    "            d = struct.pack('BBBB', 0xe0, 0xf6, numberhex, tCHK) #打包数据\n",
    "            # ser.write(d) #发送数据\n",
    "        digit_copy=digit #保存数字\n",
    "        cv2.rectangle(frame, (int(x+(w-h)/2),y), (int(x+(w+h)/2),y+h), (153,153,0), 2) #画矩形\n",
    "        cv2.putText(frame, str(digit), (x,y), cv2.FONT_HERSHEY_SIMPLEX, 1, (127,0,255), 2) #写数字\n",
    "       \n",
    "    newEdges = cv2.cvtColor(edges, cv2.COLOR_GRAY2BGR) #转换为BGR\n",
    "    newFrame = np.hstack((frame,newEdges)) #水平拼接\n",
    "    wid.value = cv2.imencode('.jpg',newFrame)[1].tobytes() #显示图像"
   ]
  },
  {
   "cell_type": "code",
   "execution_count": null,
   "id": "109b7355-18f0-42c0-b988-347881cbbf2e",
   "metadata": {},
   "outputs": [],
   "source": []
  },
  {
   "cell_type": "code",
   "execution_count": null,
   "id": "49dfea3b-1b65-4c0c-b881-04e0eadbc0c0",
   "metadata": {},
   "outputs": [],
   "source": []
  },
  {
   "cell_type": "code",
   "execution_count": null,
   "id": "0f3bf5ac-d891-4483-9ba8-d0262010911c",
   "metadata": {},
   "outputs": [],
   "source": []
  },
  {
   "cell_type": "code",
   "execution_count": null,
   "id": "75c2f101-100e-4ecc-bad2-ed31240a8cab",
   "metadata": {},
   "outputs": [],
   "source": []
  }
 ],
 "metadata": {
  "kernelspec": {
   "display_name": "Python 3 (ipykernel)",
   "language": "python",
   "name": "python3"
  },
  "language_info": {
   "codemirror_mode": {
    "name": "ipython",
    "version": 3
   },
   "file_extension": ".py",
   "mimetype": "text/x-python",
   "name": "python",
   "nbconvert_exporter": "python",
   "pygments_lexer": "ipython3",
   "version": "3.9.19"
  }
 },
 "nbformat": 4,
 "nbformat_minor": 5
}
